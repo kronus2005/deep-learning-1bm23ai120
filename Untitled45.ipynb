{
 "cells": [
  {
   "cell_type": "code",
   "execution_count": 3,
   "id": "d4de7dd1",
   "metadata": {},
   "outputs": [
    {
     "name": "stdout",
     "output_type": "stream",
     "text": [
      "Epoch 1/20, Misclassifications: 2\n",
      "Epoch 2/20, Misclassifications: 2\n",
      "Epoch 3/20, Misclassifications: 1\n",
      "Epoch 4/20, Misclassifications: 0\n",
      "Training complete: no misclassifications.\n",
      "Accuracy: 100.00%\n"
     ]
    }
   ],
   "source": [
    "import numpy as np\n",
    "import matplotlib.pyplot as plt\n",
    "class Perceptron:\n",
    "    def __init__(self, input_size, learning_rate=0.1, max_epochs=1000):\n",
    "        self.weights = np.zeros(input_size)\n",
    "        self.bias = 0.0\n",
    "        self.lr = learning_rate\n",
    "        self.max_epochs = max_epochs\n",
    "\n",
    "    def activation(self, x):\n",
    "        return 1 if x >= 0 else -1\n",
    "\n",
    "    def predict(self, x):\n",
    "        linear_output = np.dot(x, self.weights) + self.bias\n",
    "        return self.activation(linear_output)\n",
    "\n",
    "    def fit(self, X, y):\n",
    "        for epoch in range(self.max_epochs):\n",
    "            errors = 0\n",
    "            for xi, target in zip(X, y):\n",
    "                pred = self.predict(xi)\n",
    "                update = self.lr * (target - pred)\n",
    "                if update != 0:\n",
    "                    self.weights += update * xi\n",
    "                    self.bias += update\n",
    "                    errors += 1\n",
    "            print(f\"Epoch {epoch+1}/{self.max_epochs}, Misclassifications: {errors}\")\n",
    "            if errors == 0:\n",
    "                print(\"Training complete: no misclassifications.\")\n",
    "                break\n",
    "        else:\n",
    "            print(\"Reached maximum epochs.\")\n",
    "\n",
    "    def evaluate(self, X, y):\n",
    "        predictions = np.array([self.predict(xi) for xi in X])\n",
    "        accuracy = np.mean(predictions == y)\n",
    "        print(f\"Accuracy: {accuracy*100:.2f}%\")\n",
    "        return accuracy\n",
    "\n",
    "if __name__ == \"__main__\":\n",
    "    X = np.array([\n",
    "        [0, 0],\n",
    "        [0, 1],\n",
    "        [1, 0],\n",
    "        [1, 1]\n",
    "    ])\n",
    "\n",
    "    y = np.array([-1, 1, 1, 1])\n",
    "\n",
    "    perceptron = Perceptron(input_size=2, learning_rate=0.1, max_epochs=20)\n",
    "    perceptron.fit(X, y)\n",
    "    perceptron.evaluate(X, y)\n",
    "\n",
    "plt.show()\n"
   ]
  },
  {
   "cell_type": "code",
   "execution_count": null,
   "id": "b89b38e2",
   "metadata": {},
   "outputs": [],
   "source": []
  }
 ],
 "metadata": {
  "kernelspec": {
   "display_name": "Python 3 (ipykernel)",
   "language": "python",
   "name": "python3"
  },
  "language_info": {
   "codemirror_mode": {
    "name": "ipython",
    "version": 3
   },
   "file_extension": ".py",
   "mimetype": "text/x-python",
   "name": "python",
   "nbconvert_exporter": "python",
   "pygments_lexer": "ipython3",
   "version": "3.11.3"
  }
 },
 "nbformat": 4,
 "nbformat_minor": 5
}
